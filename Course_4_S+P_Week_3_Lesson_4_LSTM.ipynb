{
 "cells": [
  {
   "cell_type": "code",
   "execution_count": 0,
   "metadata": {
    "colab": {},
    "colab_type": "code",
    "id": "D1J15Vh_1Jih"
   },
   "outputs": [],
   "source": [
    "!pip install tf-nightly-2.0-preview\n"
   ]
  },
  {
   "cell_type": "code",
   "execution_count": 1,
   "metadata": {
    "colab": {
     "base_uri": "https://localhost:8080/",
     "height": 35
    },
    "colab_type": "code",
    "id": "BOjujz601HcS",
    "outputId": "aa0651c4-b24e-4e1e-936c-e31004fa751b"
   },
   "outputs": [
    {
     "name": "stdout",
     "output_type": "stream",
     "text": [
      "2.0.0\n"
     ]
    }
   ],
   "source": [
    "import tensorflow as tf\n",
    "import numpy as np\n",
    "import matplotlib.pyplot as plt\n",
    "print(tf.__version__)"
   ]
  },
  {
   "cell_type": "code",
   "execution_count": 2,
   "metadata": {
    "colab": {},
    "colab_type": "code",
    "id": "Zswl7jRtGzkk"
   },
   "outputs": [],
   "source": [
    "def plot_series(time, series, format=\"-\", start=0, end=None):\n",
    "    plt.plot(time[start:end], series[start:end], format)\n",
    "    plt.xlabel(\"Time\")\n",
    "    plt.ylabel(\"Value\")\n",
    "    plt.grid(True)\n",
    "\n",
    "def trend(time, slope=0):\n",
    "    return slope * time\n",
    "\n",
    "def seasonal_pattern(season_time):\n",
    "    \"\"\"Just an arbitrary pattern, you can change it if you wish\"\"\"\n",
    "    return np.where(season_time < 0.4,\n",
    "                    np.cos(season_time * 2 * np.pi),\n",
    "                    1 / np.exp(3 * season_time))\n",
    "\n",
    "def seasonality(time, period, amplitude=1, phase=0):\n",
    "    \"\"\"Repeats the same pattern at each period\"\"\"\n",
    "    season_time = ((time + phase) % period) / period\n",
    "    return amplitude * seasonal_pattern(season_time)\n",
    "\n",
    "def noise(time, noise_level=1, seed=None):\n",
    "    rnd = np.random.RandomState(seed)\n",
    "    return rnd.randn(len(time)) * noise_level\n",
    "\n",
    "time = np.arange(4 * 365 + 1, dtype=\"float32\")\n",
    "baseline = 10\n",
    "series = trend(time, 0.1)  \n",
    "baseline = 10\n",
    "amplitude = 40\n",
    "slope = 0.05\n",
    "noise_level = 5\n",
    "\n",
    "# Create the series\n",
    "series = baseline + trend(time, slope) + seasonality(time, period=365, amplitude=amplitude)\n",
    "# Update with noise\n",
    "series += noise(time, noise_level, seed=42)\n",
    "\n",
    "split_time = 1000\n",
    "time_train = time[:split_time]\n",
    "x_train = series[:split_time]\n",
    "time_valid = time[split_time:]\n",
    "x_valid = series[split_time:]\n",
    "\n",
    "window_size = 20\n",
    "batch_size = 32\n",
    "shuffle_buffer_size = 1000"
   ]
  },
  {
   "cell_type": "code",
   "execution_count": 3,
   "metadata": {
    "colab": {},
    "colab_type": "code",
    "id": "4sTTIOCbyShY"
   },
   "outputs": [],
   "source": [
    "def windowed_dataset(series, window_size, batch_size, shuffle_buffer):\n",
    "  dataset = tf.data.Dataset.from_tensor_slices(series)\n",
    "  dataset = dataset.window(window_size + 1, shift=1, drop_remainder=True)\n",
    "  dataset = dataset.flat_map(lambda window: window.batch(window_size + 1))\n",
    "  dataset = dataset.shuffle(shuffle_buffer).map(lambda window: (window[:-1], window[-1]))\n",
    "  dataset = dataset.batch(batch_size).prefetch(1)\n",
    "  return dataset"
   ]
  },
  {
   "cell_type": "code",
   "execution_count": 4,
   "metadata": {
    "colab": {
     "base_uri": "https://localhost:8080/",
     "height": 1000
    },
    "colab_type": "code",
    "id": "A1Hl39rklkLm",
    "outputId": "75cbaf63-f635-4dd1-96fd-b4e1d6fd94bb"
   },
   "outputs": [
    {
     "name": "stdout",
     "output_type": "stream",
     "text": [
      "Epoch 1/100\n",
      "31/31 [==============================] - 6s 178ms/step - loss: 21.4949 - mae: 22.0115\n",
      "Epoch 2/100\n",
      "31/31 [==============================] - 1s 22ms/step - loss: 21.2168 - mae: 21.6440\n",
      "Epoch 3/100\n",
      "31/31 [==============================] - 1s 21ms/step - loss: 20.7111 - mae: 21.2278\n",
      "Epoch 4/100\n",
      "31/31 [==============================] - 1s 21ms/step - loss: 20.1562 - mae: 20.7739\n",
      "Epoch 5/100\n",
      "31/31 [==============================] - 1s 22ms/step - loss: 19.7903 - mae: 20.2843\n",
      "Epoch 6/100\n",
      "31/31 [==============================] - 1s 22ms/step - loss: 19.2615 - mae: 19.6776\n",
      "Epoch 7/100\n",
      "31/31 [==============================] - 1s 24ms/step - loss: 18.2681 - mae: 18.7308\n",
      "Epoch 8/100\n",
      "31/31 [==============================] - 1s 26ms/step - loss: 17.4057 - mae: 17.9757\n",
      "Epoch 9/100\n",
      "31/31 [==============================] - 1s 23ms/step - loss: 17.2263 - mae: 17.6581\n",
      "Epoch 10/100\n",
      "31/31 [==============================] - 1s 27ms/step - loss: 16.8978 - mae: 17.3457\n",
      "Epoch 11/100\n",
      "31/31 [==============================] - 1s 22ms/step - loss: 16.6165 - mae: 17.0459\n",
      "Epoch 12/100\n",
      "31/31 [==============================] - 1s 22ms/step - loss: 16.2132 - mae: 16.7529\n",
      "Epoch 13/100\n",
      "31/31 [==============================] - 1s 22ms/step - loss: 15.9664 - mae: 16.4573\n",
      "Epoch 14/100\n",
      "31/31 [==============================] - 1s 22ms/step - loss: 15.6962 - mae: 16.1587\n",
      "Epoch 15/100\n",
      "31/31 [==============================] - 1s 22ms/step - loss: 15.3739 - mae: 15.8571\n",
      "Epoch 16/100\n",
      "31/31 [==============================] - 1s 22ms/step - loss: 15.1133 - mae: 15.5765\n",
      "Epoch 17/100\n",
      "31/31 [==============================] - 1s 22ms/step - loss: 14.7837 - mae: 15.2950\n",
      "Epoch 18/100\n",
      "31/31 [==============================] - 1s 22ms/step - loss: 14.4760 - mae: 15.0164\n",
      "Epoch 19/100\n",
      "31/31 [==============================] - 1s 22ms/step - loss: 14.3366 - mae: 14.7612\n",
      "Epoch 20/100\n",
      "31/31 [==============================] - 1s 22ms/step - loss: 14.0852 - mae: 14.5354\n",
      "Epoch 21/100\n",
      "31/31 [==============================] - 1s 22ms/step - loss: 13.8134 - mae: 14.3081\n",
      "Epoch 22/100\n",
      "31/31 [==============================] - 1s 23ms/step - loss: 13.6393 - mae: 14.1062\n",
      "Epoch 23/100\n",
      "31/31 [==============================] - 1s 22ms/step - loss: 13.3826 - mae: 13.8858\n",
      "Epoch 24/100\n",
      "31/31 [==============================] - 1s 22ms/step - loss: 13.1954 - mae: 13.7037\n",
      "Epoch 25/100\n",
      "31/31 [==============================] - 1s 22ms/step - loss: 13.0163 - mae: 13.4526\n",
      "Epoch 26/100\n",
      "31/31 [==============================] - 1s 22ms/step - loss: 12.7585 - mae: 13.2327\n",
      "Epoch 27/100\n",
      "31/31 [==============================] - 1s 22ms/step - loss: 12.5284 - mae: 12.9716\n",
      "Epoch 28/100\n",
      "31/31 [==============================] - 1s 22ms/step - loss: 12.2087 - mae: 12.7095\n",
      "Epoch 29/100\n",
      "31/31 [==============================] - 1s 22ms/step - loss: 12.3941 - mae: 12.8460\n",
      "Epoch 30/100\n",
      "31/31 [==============================] - 1s 22ms/step - loss: 11.8443 - mae: 12.3121\n",
      "Epoch 31/100\n",
      "31/31 [==============================] - 1s 22ms/step - loss: 11.3303 - mae: 11.8148\n",
      "Epoch 32/100\n",
      "31/31 [==============================] - 1s 22ms/step - loss: 10.9481 - mae: 11.4830\n",
      "Epoch 33/100\n",
      "31/31 [==============================] - 1s 22ms/step - loss: 10.6266 - mae: 11.1361\n",
      "Epoch 34/100\n",
      "31/31 [==============================] - 1s 23ms/step - loss: 10.7816 - mae: 11.3007\n",
      "Epoch 35/100\n",
      "31/31 [==============================] - 1s 23ms/step - loss: 10.9720 - mae: 11.4607\n",
      "Epoch 36/100\n",
      "31/31 [==============================] - 1s 22ms/step - loss: 10.4490 - mae: 10.9636\n",
      "Epoch 37/100\n",
      "31/31 [==============================] - 1s 22ms/step - loss: 9.9899 - mae: 10.4892\n",
      "Epoch 38/100\n",
      "31/31 [==============================] - 1s 22ms/step - loss: 9.5782 - mae: 10.0283\n",
      "Epoch 39/100\n",
      "31/31 [==============================] - 1s 22ms/step - loss: 9.0664 - mae: 9.5461\n",
      "Epoch 40/100\n",
      "31/31 [==============================] - 1s 23ms/step - loss: 8.6547 - mae: 9.1358\n",
      "Epoch 41/100\n",
      "31/31 [==============================] - 1s 22ms/step - loss: 8.2887 - mae: 8.7356\n",
      "Epoch 42/100\n",
      "31/31 [==============================] - 1s 22ms/step - loss: 7.9123 - mae: 8.4081\n",
      "Epoch 43/100\n",
      "31/31 [==============================] - 1s 22ms/step - loss: 7.6793 - mae: 8.1137\n",
      "Epoch 44/100\n",
      "31/31 [==============================] - 1s 23ms/step - loss: 7.3547 - mae: 7.8033\n",
      "Epoch 45/100\n",
      "31/31 [==============================] - 1s 22ms/step - loss: 7.1047 - mae: 7.5770\n",
      "Epoch 46/100\n",
      "31/31 [==============================] - 1s 22ms/step - loss: 6.9459 - mae: 7.3933\n",
      "Epoch 47/100\n",
      "31/31 [==============================] - 1s 22ms/step - loss: 6.5524 - mae: 7.0771\n",
      "Epoch 48/100\n",
      "31/31 [==============================] - 1s 23ms/step - loss: 6.4136 - mae: 6.9074\n",
      "Epoch 49/100\n",
      "31/31 [==============================] - 1s 22ms/step - loss: 6.3931 - mae: 6.8757\n",
      "Epoch 50/100\n",
      "31/31 [==============================] - 1s 22ms/step - loss: 6.0520 - mae: 6.5164\n",
      "Epoch 51/100\n",
      "31/31 [==============================] - 1s 22ms/step - loss: 5.8715 - mae: 6.3634\n",
      "Epoch 52/100\n",
      "31/31 [==============================] - 1s 24ms/step - loss: 5.7791 - mae: 6.2421\n",
      "Epoch 53/100\n",
      "31/31 [==============================] - 1s 22ms/step - loss: 5.6699 - mae: 6.1419\n",
      "Epoch 54/100\n",
      "31/31 [==============================] - 1s 21ms/step - loss: 5.5072 - mae: 5.9468\n",
      "Epoch 55/100\n",
      "31/31 [==============================] - 1s 26ms/step - loss: 5.4385 - mae: 5.9006\n",
      "Epoch 56/100\n",
      "31/31 [==============================] - 1s 27ms/step - loss: 5.2939 - mae: 5.7471\n",
      "Epoch 57/100\n",
      "31/31 [==============================] - 1s 21ms/step - loss: 5.3199 - mae: 5.7881\n",
      "Epoch 58/100\n",
      "31/31 [==============================] - 1s 22ms/step - loss: 5.1544 - mae: 5.6591\n",
      "Epoch 59/100\n",
      "31/31 [==============================] - 1s 21ms/step - loss: 5.3091 - mae: 5.7545\n",
      "Epoch 60/100\n",
      "31/31 [==============================] - 1s 21ms/step - loss: 5.0288 - mae: 5.5567\n",
      "Epoch 61/100\n",
      "31/31 [==============================] - 1s 21ms/step - loss: 4.9551 - mae: 5.4250\n",
      "Epoch 62/100\n",
      "31/31 [==============================] - 1s 21ms/step - loss: 5.1300 - mae: 5.5808\n",
      "Epoch 63/100\n",
      "31/31 [==============================] - 1s 21ms/step - loss: 5.2117 - mae: 5.6629\n",
      "Epoch 64/100\n",
      "31/31 [==============================] - 1s 21ms/step - loss: 5.0574 - mae: 5.5312\n",
      "Epoch 65/100\n",
      "31/31 [==============================] - 1s 21ms/step - loss: 4.9260 - mae: 5.3900\n",
      "Epoch 66/100\n",
      "31/31 [==============================] - 1s 21ms/step - loss: 5.3047 - mae: 5.7638\n",
      "Epoch 67/100\n",
      "31/31 [==============================] - 1s 21ms/step - loss: 5.2755 - mae: 5.7446\n",
      "Epoch 68/100\n",
      "31/31 [==============================] - 1s 21ms/step - loss: 5.3003 - mae: 5.7234\n",
      "Epoch 69/100\n",
      "31/31 [==============================] - 1s 21ms/step - loss: 5.3746 - mae: 5.8346\n",
      "Epoch 70/100\n",
      "31/31 [==============================] - 1s 21ms/step - loss: 6.1353 - mae: 6.6385\n",
      "Epoch 71/100\n",
      "31/31 [==============================] - 1s 21ms/step - loss: 4.9122 - mae: 5.4136\n",
      "Epoch 72/100\n",
      "31/31 [==============================] - 1s 21ms/step - loss: 5.6098 - mae: 6.0634\n",
      "Epoch 73/100\n",
      "31/31 [==============================] - 1s 21ms/step - loss: 5.3409 - mae: 5.8207\n",
      "Epoch 74/100\n",
      "31/31 [==============================] - 1s 21ms/step - loss: 6.6810 - mae: 7.1939\n",
      "Epoch 75/100\n",
      "31/31 [==============================] - 1s 21ms/step - loss: 5.6318 - mae: 6.0943\n",
      "Epoch 76/100\n",
      "31/31 [==============================] - 1s 21ms/step - loss: 5.2819 - mae: 5.7409\n",
      "Epoch 77/100\n",
      "31/31 [==============================] - 1s 21ms/step - loss: 5.1887 - mae: 5.6981\n",
      "Epoch 78/100\n",
      "31/31 [==============================] - 1s 21ms/step - loss: 5.8202 - mae: 6.2994\n",
      "Epoch 79/100\n",
      "31/31 [==============================] - 1s 21ms/step - loss: 5.1639 - mae: 5.6928\n",
      "Epoch 80/100\n",
      "31/31 [==============================] - 1s 21ms/step - loss: 7.0646 - mae: 7.5020\n",
      "Epoch 81/100\n",
      "31/31 [==============================] - 1s 22ms/step - loss: 6.5542 - mae: 6.9725\n",
      "Epoch 82/100\n",
      "31/31 [==============================] - 1s 21ms/step - loss: 5.4143 - mae: 5.9759\n",
      "Epoch 83/100\n",
      "31/31 [==============================] - 1s 21ms/step - loss: 6.3900 - mae: 6.8805\n",
      "Epoch 84/100\n",
      "31/31 [==============================] - 1s 21ms/step - loss: 6.2315 - mae: 6.7472\n",
      "Epoch 85/100\n"
     ]
    },
    {
     "name": "stdout",
     "output_type": "stream",
     "text": [
      "31/31 [==============================] - 1s 21ms/step - loss: 6.4265 - mae: 6.9087\n",
      "Epoch 86/100\n",
      "31/31 [==============================] - 1s 21ms/step - loss: 7.7010 - mae: 8.2106\n",
      "Epoch 87/100\n",
      "31/31 [==============================] - 1s 21ms/step - loss: 7.8382 - mae: 8.2875\n",
      "Epoch 88/100\n",
      "31/31 [==============================] - 1s 21ms/step - loss: 7.0299 - mae: 7.4587\n",
      "Epoch 89/100\n",
      "31/31 [==============================] - 1s 21ms/step - loss: 8.9727 - mae: 9.4783\n",
      "Epoch 90/100\n",
      "31/31 [==============================] - 1s 21ms/step - loss: 7.8303 - mae: 8.3176\n",
      "Epoch 91/100\n",
      "31/31 [==============================] - 1s 22ms/step - loss: 6.9479 - mae: 7.4267\n",
      "Epoch 92/100\n",
      "31/31 [==============================] - 1s 22ms/step - loss: 7.4463 - mae: 8.0042\n",
      "Epoch 93/100\n",
      "31/31 [==============================] - 1s 21ms/step - loss: 8.6629 - mae: 9.2103\n",
      "Epoch 94/100\n",
      "31/31 [==============================] - 1s 21ms/step - loss: 10.5851 - mae: 11.0800\n",
      "Epoch 95/100\n",
      "31/31 [==============================] - 1s 21ms/step - loss: 9.2273 - mae: 9.7141\n",
      "Epoch 96/100\n",
      "31/31 [==============================] - 1s 21ms/step - loss: 7.1156 - mae: 7.6041\n",
      "Epoch 97/100\n",
      "31/31 [==============================] - 1s 21ms/step - loss: 7.4026 - mae: 7.9122\n",
      "Epoch 98/100\n",
      "31/31 [==============================] - 1s 21ms/step - loss: 8.0632 - mae: 8.5827\n",
      "Epoch 99/100\n",
      "31/31 [==============================] - 1s 21ms/step - loss: 10.8493 - mae: 11.2304\n",
      "Epoch 100/100\n",
      "31/31 [==============================] - 1s 21ms/step - loss: 11.6399 - mae: 12.0949\n"
     ]
    }
   ],
   "source": [
    "tf.keras.backend.clear_session()\n",
    "tf.random.set_seed(51)\n",
    "np.random.seed(51)\n",
    "\n",
    "tf.keras.backend.clear_session()\n",
    "dataset = windowed_dataset(x_train, window_size, batch_size, shuffle_buffer_size)\n",
    "\n",
    "model = tf.keras.models.Sequential([\n",
    "  tf.keras.layers.Lambda(lambda x: tf.expand_dims(x, axis=-1),\n",
    "                      input_shape=[None]),\n",
    "    tf.keras.layers.Bidirectional(tf.keras.layers.LSTM(32, return_sequences=True)),\n",
    "  tf.keras.layers.Bidirectional(tf.keras.layers.LSTM(32)),\n",
    "  tf.keras.layers.Dense(1),\n",
    "  tf.keras.layers.Lambda(lambda x: x * 100.0)\n",
    "])\n",
    "\n",
    "lr_schedule = tf.keras.callbacks.LearningRateScheduler(\n",
    "    lambda epoch: 1e-8 * 10**(epoch / 20))\n",
    "\n",
    "optimizer = tf.keras.optimizers.SGD(lr=1e-8, momentum=0.9)\n",
    "model.compile(loss=tf.keras.losses.Huber(),\n",
    "              optimizer=optimizer,\n",
    "              metrics=[\"mae\"])\n",
    "history = model.fit(dataset, epochs=100, callbacks=[lr_schedule])"
   ]
  },
  {
   "cell_type": "code",
   "execution_count": 5,
   "metadata": {
    "colab": {
     "base_uri": "https://localhost:8080/",
     "height": 291
    },
    "colab_type": "code",
    "id": "AkBsrsXMzoWR",
    "outputId": "99a3f57b-9145-4802-8256-401a54b238e7"
   },
   "outputs": [
    {
     "data": {
      "text/plain": [
       "[1e-08, 0.0001, 0, 30]"
      ]
     },
     "execution_count": 5,
     "metadata": {},
     "output_type": "execute_result"
    },
    {
     "data": {
      "image/png": "[encoded data removed]",
      "text/plain": [
       "<Figure size 432x288 with 1 Axes>"
      ]
     },
     "metadata": {
      "needs_background": "light"
     },
     "output_type": "display_data"
    }
   ],
   "source": [
    "plt.semilogx(history.history[\"lr\"], history.history[\"loss\"])\n",
    "plt.axis([1e-8, 1e-4, 0, 30])"
   ]
  },
  {
   "cell_type": "code",
   "execution_count": 6,
   "metadata": {
    "colab": {},
    "colab_type": "code",
    "id": "4uh-97bpLZCA"
   },
   "outputs": [],
   "source": [
    "tf.keras.backend.clear_session()\n",
    "tf.random.set_seed(51)\n",
    "np.random.seed(51)\n",
    "\n",
    "tf.keras.backend.clear_session()\n",
    "dataset = windowed_dataset(x_train, window_size, batch_size, shuffle_buffer_size)\n",
    "\n",
    "model = tf.keras.models.Sequential([\n",
    "  tf.keras.layers.Lambda(lambda x: tf.expand_dims(x, axis=-1),\n",
    "                      input_shape=[None]),\n",
    "   tf.keras.layers.Bidirectional(tf.keras.layers.LSTM(32, return_sequences=True)),\n",
    "  tf.keras.layers.Bidirectional(tf.keras.layers.LSTM(32)),\n",
    "  tf.keras.layers.Dense(1),\n",
    "  tf.keras.layers.Lambda(lambda x: x * 100.0)\n",
    "])\n",
    "\n",
    "\n",
    "model.compile(loss=\"mse\", optimizer=tf.keras.optimizers.SGD(lr=1e-5, momentum=0.9),metrics=[\"mae\"])\n",
    "history = model.fit(dataset,epochs=500,verbose=0)"
   ]
  },
  {
   "cell_type": "code",
   "execution_count": 8,
   "metadata": {
    "colab": {
     "base_uri": "https://localhost:8080/",
     "height": 393
    },
    "colab_type": "code",
    "id": "icGDaND7z0ne",
    "outputId": "58b69d1a-82d2-457b-9342-42ceb24b35da"
   },
   "outputs": [
    {
     "data": {
      "image/png": "[encoded data removed]",
      "text/plain": [
       "<Figure size 720x432 with 1 Axes>"
      ]
     },
     "metadata": {
      "needs_background": "light"
     },
     "output_type": "display_data"
    }
   ],
   "source": [
    "forecast = []\n",
    "results = []\n",
    "for time in range(len(series) - window_size):\n",
    "  forecast.append(model.predict(series[time:time + window_size][np.newaxis]))\n",
    "\n",
    "forecast = forecast[split_time-window_size:]\n",
    "results = np.array(forecast)[:, 0, 0]\n",
    "\n",
    "\n",
    "plt.figure(figsize=(10, 6))\n",
    "\n",
    "plot_series(time_valid, x_valid)\n",
    "plot_series(time_valid, results)"
   ]
  },
  {
   "cell_type": "code",
   "execution_count": 9,
   "metadata": {
    "colab": {
     "base_uri": "https://localhost:8080/",
     "height": 35
    },
    "colab_type": "code",
    "id": "KfPeqI7rz4LD",
    "outputId": "816335be-fd2a-428f-98d6-05983b84d9b5"
   },
   "outputs": [
    {
     "data": {
      "text/plain": [
       "6.6142917"
      ]
     },
     "execution_count": 9,
     "metadata": {},
     "output_type": "execute_result"
    }
   ],
   "source": [
    "tf.keras.metrics.mean_absolute_error(x_valid, results).numpy()"
   ]
  },
  {
   "cell_type": "code",
   "execution_count": 0,
   "metadata": {
    "colab": {
     "base_uri": "https://localhost:8080/",
     "height": 235
    },
    "colab_type": "code",
    "id": "JUsdZB_tzDLe",
    "outputId": "964c47d9-7eec-42cd-905f-c45c2fd31d9e"
   },
   "outputs": [
    {
     "ename": "KeyError",
     "evalue": "ignored",
     "output_type": "error",
     "traceback": [
      "\u001b[0;31m---------------------------------------------------------------------------\u001b[0m",
      "\u001b[0;31mKeyError\u001b[0m                                  Traceback (most recent call last)",
      "\u001b[0;32m<ipython-input-13-0d8269471fd6>\u001b[0m in \u001b[0;36m<module>\u001b[0;34m()\u001b[0m\n\u001b[1;32m      6\u001b[0m \u001b[0;31m# sets for each training epoch\u001b[0m\u001b[0;34m\u001b[0m\u001b[0;34m\u001b[0m\u001b[0;34m\u001b[0m\u001b[0m\n\u001b[1;32m      7\u001b[0m \u001b[0;31m#-----------------------------------------------------------\u001b[0m\u001b[0;34m\u001b[0m\u001b[0;34m\u001b[0m\u001b[0;34m\u001b[0m\u001b[0m\n\u001b[0;32m----> 8\u001b[0;31m \u001b[0mmae\u001b[0m\u001b[0;34m=\u001b[0m\u001b[0mhistory\u001b[0m\u001b[0;34m.\u001b[0m\u001b[0mhistory\u001b[0m\u001b[0;34m[\u001b[0m\u001b[0;34m'mae'\u001b[0m\u001b[0;34m]\u001b[0m\u001b[0;34m\u001b[0m\u001b[0;34m\u001b[0m\u001b[0m\n\u001b[0m\u001b[1;32m      9\u001b[0m \u001b[0mloss\u001b[0m\u001b[0;34m=\u001b[0m\u001b[0mhistory\u001b[0m\u001b[0;34m.\u001b[0m\u001b[0mhistory\u001b[0m\u001b[0;34m[\u001b[0m\u001b[0;34m'loss'\u001b[0m\u001b[0;34m]\u001b[0m\u001b[0;34m\u001b[0m\u001b[0;34m\u001b[0m\u001b[0m\n\u001b[1;32m     10\u001b[0m \u001b[0;34m\u001b[0m\u001b[0m\n",
      "\u001b[0;31mKeyError\u001b[0m: 'mae'"
     ]
    }
   ],
   "source": [
    "import matplotlib.image  as mpimg\n",
    "import matplotlib.pyplot as plt\n",
    "\n",
    "#-----------------------------------------------------------\n",
    "# Retrieve a list of list results on training and test data\n",
    "# sets for each training epoch\n",
    "#-----------------------------------------------------------\n",
    "mae=history.history['mae']\n",
    "loss=history.history['loss']\n",
    "\n",
    "epochs=range(len(loss)) # Get number of epochs\n",
    "\n",
    "#------------------------------------------------\n",
    "# Plot MAE and Loss\n",
    "#------------------------------------------------\n",
    "plt.plot(epochs, mae, 'r')\n",
    "plt.plot(epochs, loss, 'b')\n",
    "plt.title('MAE and Loss')\n",
    "plt.xlabel(\"Epochs\")\n",
    "plt.ylabel(\"Accuracy\")\n",
    "plt.legend([\"MAE\", \"Loss\"])\n",
    "\n",
    "plt.figure()\n",
    "\n",
    "epochs_zoom = epochs[200:]\n",
    "mae_zoom = mae[200:]\n",
    "loss_zoom = loss[200:]\n",
    "\n",
    "#------------------------------------------------\n",
    "# Plot Zoomed MAE and Loss\n",
    "#------------------------------------------------\n",
    "plt.plot(epochs_zoom, mae_zoom, 'r')\n",
    "plt.plot(epochs_zoom, loss_zoom, 'b')\n",
    "plt.title('MAE and Loss')\n",
    "plt.xlabel(\"Epochs\")\n",
    "plt.ylabel(\"Accuracy\")\n",
    "plt.legend([\"MAE\", \"Loss\"])\n",
    "\n",
    "plt.figure()"
   ]
  },
  {
   "cell_type": "code",
   "execution_count": 0,
   "metadata": {
    "colab": {},
    "colab_type": "code",
    "id": "3CGaYFxXNEAK"
   },
   "outputs": [],
   "source": [
    "tf.keras.backend.clear_session()\n",
    "dataset = windowed_dataset(x_train, window_size, batch_size, shuffle_buffer_size)\n",
    "\n",
    "model = tf.keras.models.Sequential([\n",
    "  tf.keras.layers.Lambda(lambda x: tf.expand_dims(x, axis=-1),\n",
    "                      input_shape=[None]),\n",
    "  tf.keras.layers.Bidirectional(tf.keras.layers.LSTM(32, return_sequences=True)),\n",
    "  tf.keras.layers.Bidirectional(tf.keras.layers.LSTM(32)),\n",
    "  tf.keras.layers.Dense(1),\n",
    "  tf.keras.layers.Lambda(lambda x: x * 100.0)\n",
    "])\n",
    "\n",
    "\n",
    "model.compile(loss=\"mse\", optimizer=tf.keras.optimizers.SGD(lr=1e-6, momentum=0.9))\n",
    "model.fit(dataset,epochs=100, verbose=0)"
   ]
  },
  {
   "cell_type": "code",
   "execution_count": 0,
   "metadata": {
    "colab": {},
    "colab_type": "code",
    "id": "FJ3R8ysauz9e"
   },
   "outputs": [],
   "source": [
    "tf.keras.backend.clear_session()\n",
    "dataset = windowed_dataset(x_train, window_size, batch_size, shuffle_buffer_size)\n",
    "\n",
    "model = tf.keras.models.Sequential([\n",
    "  tf.keras.layers.Lambda(lambda x: tf.expand_dims(x, axis=-1),\n",
    "                      input_shape=[None]),\n",
    "  tf.keras.layers.Bidirectional(tf.keras.layers.LSTM(32, return_sequences=True)),\n",
    "  tf.keras.layers.Bidirectional(tf.keras.layers.LSTM(32, return_sequences=True)),\n",
    "  tf.keras.layers.Bidirectional(tf.keras.layers.LSTM(32)),\n",
    "  tf.keras.layers.Dense(1),\n",
    "  tf.keras.layers.Lambda(lambda x: x * 100.0)\n",
    "])\n",
    "\n",
    "\n",
    "model.compile(loss=\"mse\", optimizer=tf.keras.optimizers.SGD(lr=1e-6, momentum=0.9))\n",
    "model.fit(dataset,epochs=100)"
   ]
  }
 ],
 "metadata": {
  "colab": {
   "collapsed_sections": [],
   "name": "S+P Week 3 Lesson 4 - LSTM.ipynb",
   "provenance": []
  },
  "kernelspec": {
   "display_name": "Python 3",
   "language": "python",
   "name": "python3"
  },
  "language_info": {
   "codemirror_mode": {
    "name": "ipython",
    "version": 3
   },
   "file_extension": ".py",
   "mimetype": "text/x-python",
   "name": "python",
   "nbconvert_exporter": "python",
   "pygments_lexer": "ipython3",
   "version": "3.7.4"
  }
 },
 "nbformat": 4,
 "nbformat_minor": 1
}
