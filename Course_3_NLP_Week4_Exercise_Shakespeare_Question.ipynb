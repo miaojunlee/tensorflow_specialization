{
  "nbformat": 4,
  "nbformat_minor": 0,
  "metadata": {
    "colab": {
      "name": "NLP-Week4-Exercise-Shakespeare-Question.ipynb",
      "provenance": []
    },
    "kernelspec": {
      "name": "python3",
      "display_name": "Python 3"
    },
    "accelerator": "GPU"
  },
  "cells": [
    {
      "cell_type": "code",
      "metadata": {
        "id": "BOwsuGQQY9OL",
        "colab_type": "code",
        "colab": {}
      },
      "source": [
        "from tensorflow.keras.preprocessing.sequence import pad_sequences\n",
        "from tensorflow.keras.layers import Embedding, LSTM, Dense, Dropout, Bidirectional\n",
        "from tensorflow.keras.preprocessing.text import Tokenizer\n",
        "from tensorflow.keras.models import Sequential\n",
        "from tensorflow.keras.optimizers import Adam\n",
        "from tensorflow.keras import regularizers\n",
        "import tensorflow.keras.utils as ku \n",
        "import numpy as np "
      ],
      "execution_count": 0,
      "outputs": []
    },
    {
      "cell_type": "code",
      "metadata": {
        "colab_type": "code",
        "id": "PRnDnCW-Z7qv",
        "colab": {
          "base_uri": "https://localhost:8080/",
          "height": 202
        },
        "outputId": "fcc7203d-44b6-44f4-e7c7-5d27666e196b"
      },
      "source": [
        "tokenizer = Tokenizer()\n",
        "!wget --no-check-certificate \\\n",
        "    https://storage.googleapis.com/laurencemoroney-blog.appspot.com/sonnets.txt \\\n",
        "    -O /tmp/sonnets.txt\n",
        "data = open('/tmp/sonnets.txt').read()\n",
        "\n",
        "corpus = data.lower().split(\"\\n\")\n",
        "\n",
        "\n",
        "tokenizer.fit_on_texts(corpus)\n",
        "total_words = len(tokenizer.word_index) + 1\n",
        "\n",
        "# create input sequences using list of tokens\n",
        "input_sequences = []\n",
        "for line in corpus:\n",
        "\ttoken_list = tokenizer.texts_to_sequences([line])[0]\n",
        "\tfor i in range(1, len(token_list)):\n",
        "\t\tn_gram_sequence = token_list[:i+1]\n",
        "\t\tinput_sequences.append(n_gram_sequence)\n",
        "\n",
        "\n",
        "# pad sequences \n",
        "max_sequence_len = max([len(x) for x in input_sequences])\n",
        "input_sequences = np.array(pad_sequences(input_sequences, maxlen=max_sequence_len, padding='pre'))\n",
        "\n",
        "# create predictors and label\n",
        "predictors, label = input_sequences[:,:-1],input_sequences[:,-1]\n",
        "\n",
        "label = ku.to_categorical(label, num_classes=total_words)"
      ],
      "execution_count": 23,
      "outputs": [
        {
          "output_type": "stream",
          "text": [
            "--2020-01-05 18:20:56--  https://storage.googleapis.com/laurencemoroney-blog.appspot.com/sonnets.txt\n",
            "Resolving storage.googleapis.com (storage.googleapis.com)... 74.125.195.128, 2607:f8b0:400e:c08::80\n",
            "Connecting to storage.googleapis.com (storage.googleapis.com)|74.125.195.128|:443... connected.\n",
            "HTTP request sent, awaiting response... 200 OK\n",
            "Length: 93578 (91K) [text/plain]\n",
            "Saving to: ‘/tmp/sonnets.txt’\n",
            "\n",
            "\r/tmp/sonnets.txt      0%[                    ]       0  --.-KB/s               \r/tmp/sonnets.txt    100%[===================>]  91.38K  --.-KB/s    in 0.001s  \n",
            "\n",
            "2020-01-05 18:20:56 (163 MB/s) - ‘/tmp/sonnets.txt’ saved [93578/93578]\n",
            "\n"
          ],
          "name": "stdout"
        }
      ]
    },
    {
      "cell_type": "code",
      "metadata": {
        "id": "KMNK02u58yYk",
        "colab_type": "code",
        "colab": {
          "base_uri": "https://localhost:8080/",
          "height": 34
        },
        "outputId": "94017bd4-d290-49ea-fe6e-d5f68458bf8c"
      },
      "source": [
        "len(input_sequences)"
      ],
      "execution_count": 28,
      "outputs": [
        {
          "output_type": "execute_result",
          "data": {
            "text/plain": [
              "15462"
            ]
          },
          "metadata": {
            "tags": []
          },
          "execution_count": 28
        }
      ]
    },
    {
      "cell_type": "code",
      "metadata": {
        "id": "w9vH8Y59ajYL",
        "colab_type": "code",
        "colab": {
          "base_uri": "https://localhost:8080/",
          "height": 370
        },
        "outputId": "5e790d7f-5998-42a1-b79b-be7f8b51d135"
      },
      "source": [
        "model = Sequential()\n",
        "model.add(Embedding(total_words, 100, input_length=max_sequence_len-1)) #input_length should be max_sequence_len - 1\n",
        "model.add(Bidirectional(LSTM(150, return_sequences=True)))\n",
        "model.add(Dropout(0.3))\n",
        "model.add(LSTM(100))\n",
        "model.add(Dense(total_words/2, activation='relu',kernel_regularizer=regularizers.l2(0.01)))\n",
        "model.add(Dense(total_words, activation='softmax'))\n",
        "# Pick an optimizer\n",
        "model.compile(optimizer='adam', loss='categorical_crossentropy', metrics=['acc'])\n",
        "print(model.summary())"
      ],
      "execution_count": 42,
      "outputs": [
        {
          "output_type": "stream",
          "text": [
            "Model: \"sequential_7\"\n",
            "_________________________________________________________________\n",
            "Layer (type)                 Output Shape              Param #   \n",
            "=================================================================\n",
            "embedding_7 (Embedding)      (None, 10, 100)           321100    \n",
            "_________________________________________________________________\n",
            "bidirectional_1 (Bidirection (None, 10, 300)           301200    \n",
            "_________________________________________________________________\n",
            "dropout_7 (Dropout)          (None, 10, 300)           0         \n",
            "_________________________________________________________________\n",
            "lstm_15 (LSTM)               (None, 100)               160400    \n",
            "_________________________________________________________________\n",
            "dense_11 (Dense)             (None, 1605)              162105    \n",
            "_________________________________________________________________\n",
            "dense_12 (Dense)             (None, 3211)              5156866   \n",
            "=================================================================\n",
            "Total params: 6,101,671\n",
            "Trainable params: 6,101,671\n",
            "Non-trainable params: 0\n",
            "_________________________________________________________________\n",
            "None\n"
          ],
          "name": "stdout"
        }
      ]
    },
    {
      "cell_type": "code",
      "metadata": {
        "id": "AIg2f1HBxqof",
        "colab_type": "code",
        "colab": {
          "base_uri": "https://localhost:8080/",
          "height": 1000
        },
        "outputId": "f11b6d7e-4c5f-4a01-98b0-ef3f847425ad"
      },
      "source": [
        " history = model.fit(predictors, label, epochs=100, verbose=1)"
      ],
      "execution_count": 43,
      "outputs": [
        {
          "output_type": "stream",
          "text": [
            "WARNING:tensorflow:From /usr/local/lib/python3.6/dist-packages/tensorflow_core/python/ops/math_grad.py:1424: where (from tensorflow.python.ops.array_ops) is deprecated and will be removed in a future version.\n",
            "Instructions for updating:\n",
            "Use tf.where in 2.0, which has the same broadcast rule as np.where\n",
            "Train on 15462 samples\n",
            "Epoch 1/100\n",
            "15462/15462 [==============================] - 22s 1ms/sample - loss: 6.9173 - acc: 0.0211\n",
            "Epoch 2/100\n",
            "15462/15462 [==============================] - 19s 1ms/sample - loss: 6.5052 - acc: 0.0217\n",
            "Epoch 3/100\n",
            "15462/15462 [==============================] - 19s 1ms/sample - loss: 6.3961 - acc: 0.0264\n",
            "Epoch 4/100\n",
            "15462/15462 [==============================] - 19s 1ms/sample - loss: 6.2798 - acc: 0.0291\n",
            "Epoch 5/100\n",
            "15462/15462 [==============================] - 19s 1ms/sample - loss: 6.1866 - acc: 0.0357\n",
            "Epoch 6/100\n",
            "15462/15462 [==============================] - 20s 1ms/sample - loss: 6.1024 - acc: 0.0373\n",
            "Epoch 7/100\n",
            "15462/15462 [==============================] - 20s 1ms/sample - loss: 6.0238 - acc: 0.0397\n",
            "Epoch 8/100\n",
            "15462/15462 [==============================] - 20s 1ms/sample - loss: 5.9445 - acc: 0.0412\n",
            "Epoch 9/100\n",
            "15462/15462 [==============================] - 20s 1ms/sample - loss: 5.8446 - acc: 0.0474\n",
            "Epoch 10/100\n",
            "15462/15462 [==============================] - 20s 1ms/sample - loss: 5.7348 - acc: 0.0537\n",
            "Epoch 11/100\n",
            "15462/15462 [==============================] - 21s 1ms/sample - loss: 5.6173 - acc: 0.0592\n",
            "Epoch 12/100\n",
            "15462/15462 [==============================] - 21s 1ms/sample - loss: 5.5039 - acc: 0.0645\n",
            "Epoch 13/100\n",
            "15462/15462 [==============================] - 21s 1ms/sample - loss: 5.3987 - acc: 0.0724\n",
            "Epoch 14/100\n",
            "15462/15462 [==============================] - 20s 1ms/sample - loss: 5.2982 - acc: 0.0780\n",
            "Epoch 15/100\n",
            "15462/15462 [==============================] - 20s 1ms/sample - loss: 5.1949 - acc: 0.0834\n",
            "Epoch 16/100\n",
            "15462/15462 [==============================] - 20s 1ms/sample - loss: 5.0898 - acc: 0.0934\n",
            "Epoch 17/100\n",
            "15462/15462 [==============================] - 21s 1ms/sample - loss: 4.9904 - acc: 0.0991\n",
            "Epoch 18/100\n",
            "15462/15462 [==============================] - 20s 1ms/sample - loss: 4.8911 - acc: 0.1079\n",
            "Epoch 19/100\n",
            "15462/15462 [==============================] - 20s 1ms/sample - loss: 4.7873 - acc: 0.1167\n",
            "Epoch 20/100\n",
            "15462/15462 [==============================] - 20s 1ms/sample - loss: 4.6852 - acc: 0.1296\n",
            "Epoch 21/100\n",
            "15462/15462 [==============================] - 21s 1ms/sample - loss: 4.5888 - acc: 0.1376\n",
            "Epoch 22/100\n",
            "15462/15462 [==============================] - 21s 1ms/sample - loss: 4.4938 - acc: 0.1493\n",
            "Epoch 23/100\n",
            "15462/15462 [==============================] - 21s 1ms/sample - loss: 4.3946 - acc: 0.1559\n",
            "Epoch 24/100\n",
            "15462/15462 [==============================] - 20s 1ms/sample - loss: 4.2933 - acc: 0.1665\n",
            "Epoch 25/100\n",
            "15462/15462 [==============================] - 20s 1ms/sample - loss: 4.2009 - acc: 0.1759\n",
            "Epoch 26/100\n",
            "15462/15462 [==============================] - 20s 1ms/sample - loss: 4.1054 - acc: 0.1905\n",
            "Epoch 27/100\n",
            "15462/15462 [==============================] - 20s 1ms/sample - loss: 4.0053 - acc: 0.2031\n",
            "Epoch 28/100\n",
            "15462/15462 [==============================] - 20s 1ms/sample - loss: 3.9159 - acc: 0.2194\n",
            "Epoch 29/100\n",
            "15462/15462 [==============================] - 20s 1ms/sample - loss: 3.8259 - acc: 0.2315\n",
            "Epoch 30/100\n",
            "15462/15462 [==============================] - 20s 1ms/sample - loss: 3.7433 - acc: 0.2438\n",
            "Epoch 31/100\n",
            "15462/15462 [==============================] - 20s 1ms/sample - loss: 3.6489 - acc: 0.2650\n",
            "Epoch 32/100\n",
            "15462/15462 [==============================] - 20s 1ms/sample - loss: 3.5704 - acc: 0.2806\n",
            "Epoch 33/100\n",
            "15462/15462 [==============================] - 20s 1ms/sample - loss: 3.4842 - acc: 0.3014\n",
            "Epoch 34/100\n",
            "15462/15462 [==============================] - 20s 1ms/sample - loss: 3.4059 - acc: 0.3133\n",
            "Epoch 35/100\n",
            "15462/15462 [==============================] - 20s 1ms/sample - loss: 3.3332 - acc: 0.3351\n",
            "Epoch 36/100\n",
            "15462/15462 [==============================] - 20s 1ms/sample - loss: 3.2689 - acc: 0.3436\n",
            "Epoch 37/100\n",
            "15462/15462 [==============================] - 20s 1ms/sample - loss: 3.1783 - acc: 0.3641\n",
            "Epoch 38/100\n",
            "15462/15462 [==============================] - 21s 1ms/sample - loss: 3.1168 - acc: 0.3760\n",
            "Epoch 39/100\n",
            "15462/15462 [==============================] - 20s 1ms/sample - loss: 3.0483 - acc: 0.3928\n",
            "Epoch 40/100\n",
            "15462/15462 [==============================] - 20s 1ms/sample - loss: 2.9871 - acc: 0.4075\n",
            "Epoch 41/100\n",
            "15462/15462 [==============================] - 20s 1ms/sample - loss: 2.9231 - acc: 0.4193\n",
            "Epoch 42/100\n",
            "15462/15462 [==============================] - 20s 1ms/sample - loss: 2.8616 - acc: 0.4351\n",
            "Epoch 43/100\n",
            "15462/15462 [==============================] - 20s 1ms/sample - loss: 2.8044 - acc: 0.4454\n",
            "Epoch 44/100\n",
            "15462/15462 [==============================] - 20s 1ms/sample - loss: 2.7409 - acc: 0.4639\n",
            "Epoch 45/100\n",
            "15462/15462 [==============================] - 19s 1ms/sample - loss: 2.6930 - acc: 0.4690\n",
            "Epoch 46/100\n",
            "15462/15462 [==============================] - 19s 1ms/sample - loss: 2.6474 - acc: 0.4807\n",
            "Epoch 47/100\n",
            "15462/15462 [==============================] - 19s 1ms/sample - loss: 2.5912 - acc: 0.4950\n",
            "Epoch 48/100\n",
            "15462/15462 [==============================] - 19s 1ms/sample - loss: 2.5406 - acc: 0.5047\n",
            "Epoch 49/100\n",
            "15462/15462 [==============================] - 20s 1ms/sample - loss: 2.4928 - acc: 0.5185\n",
            "Epoch 50/100\n",
            "15462/15462 [==============================] - 20s 1ms/sample - loss: 2.4467 - acc: 0.5270\n",
            "Epoch 51/100\n",
            "15462/15462 [==============================] - 20s 1ms/sample - loss: 2.4072 - acc: 0.5363\n",
            "Epoch 52/100\n",
            "15462/15462 [==============================] - 20s 1ms/sample - loss: 2.3522 - acc: 0.5476\n",
            "Epoch 53/100\n",
            "15462/15462 [==============================] - 20s 1ms/sample - loss: 2.3060 - acc: 0.5589\n",
            "Epoch 54/100\n",
            "15462/15462 [==============================] - 20s 1ms/sample - loss: 2.2696 - acc: 0.5650\n",
            "Epoch 55/100\n",
            "15462/15462 [==============================] - 20s 1ms/sample - loss: 2.2358 - acc: 0.5748\n",
            "Epoch 56/100\n",
            "15462/15462 [==============================] - 20s 1ms/sample - loss: 2.1938 - acc: 0.5810\n",
            "Epoch 57/100\n",
            "15462/15462 [==============================] - 20s 1ms/sample - loss: 2.1675 - acc: 0.5929\n",
            "Epoch 58/100\n",
            "15462/15462 [==============================] - 20s 1ms/sample - loss: 2.1206 - acc: 0.5988\n",
            "Epoch 59/100\n",
            "15462/15462 [==============================] - 20s 1ms/sample - loss: 2.0797 - acc: 0.6101\n",
            "Epoch 60/100\n",
            "15462/15462 [==============================] - 20s 1ms/sample - loss: 2.0574 - acc: 0.6134\n",
            "Epoch 61/100\n",
            "15462/15462 [==============================] - 20s 1ms/sample - loss: 2.0229 - acc: 0.6209\n",
            "Epoch 62/100\n",
            "15462/15462 [==============================] - 20s 1ms/sample - loss: 1.9874 - acc: 0.6281\n",
            "Epoch 63/100\n",
            "15462/15462 [==============================] - 20s 1ms/sample - loss: 1.9563 - acc: 0.6374\n",
            "Epoch 64/100\n",
            "15462/15462 [==============================] - 20s 1ms/sample - loss: 1.9242 - acc: 0.6426\n",
            "Epoch 65/100\n",
            "15462/15462 [==============================] - 20s 1ms/sample - loss: 1.9115 - acc: 0.6396\n",
            "Epoch 66/100\n",
            "15462/15462 [==============================] - 20s 1ms/sample - loss: 1.8653 - acc: 0.6537\n",
            "Epoch 67/100\n",
            "15462/15462 [==============================] - 20s 1ms/sample - loss: 1.8438 - acc: 0.6623\n",
            "Epoch 68/100\n",
            "15462/15462 [==============================] - 20s 1ms/sample - loss: 1.8202 - acc: 0.6649\n",
            "Epoch 69/100\n",
            "15462/15462 [==============================] - 20s 1ms/sample - loss: 1.7832 - acc: 0.6764\n",
            "Epoch 70/100\n",
            "15462/15462 [==============================] - 20s 1ms/sample - loss: 1.7723 - acc: 0.6732\n",
            "Epoch 71/100\n",
            "15462/15462 [==============================] - 20s 1ms/sample - loss: 1.7367 - acc: 0.6845\n",
            "Epoch 72/100\n",
            "15462/15462 [==============================] - 20s 1ms/sample - loss: 1.7115 - acc: 0.6885\n",
            "Epoch 73/100\n",
            "15462/15462 [==============================] - 20s 1ms/sample - loss: 1.6978 - acc: 0.6896\n",
            "Epoch 74/100\n",
            "15462/15462 [==============================] - 20s 1ms/sample - loss: 1.6852 - acc: 0.6925\n",
            "Epoch 75/100\n",
            "15462/15462 [==============================] - 20s 1ms/sample - loss: 1.6547 - acc: 0.7014\n",
            "Epoch 76/100\n",
            "15462/15462 [==============================] - 20s 1ms/sample - loss: 1.6367 - acc: 0.7035\n",
            "Epoch 77/100\n",
            "15462/15462 [==============================] - 20s 1ms/sample - loss: 1.6148 - acc: 0.7093\n",
            "Epoch 78/100\n",
            "15462/15462 [==============================] - 20s 1ms/sample - loss: 1.5878 - acc: 0.7128\n",
            "Epoch 79/100\n",
            "15462/15462 [==============================] - 20s 1ms/sample - loss: 1.5783 - acc: 0.7118\n",
            "Epoch 80/100\n",
            "15462/15462 [==============================] - 20s 1ms/sample - loss: 1.5727 - acc: 0.7143\n",
            "Epoch 81/100\n",
            "15462/15462 [==============================] - 20s 1ms/sample - loss: 1.5395 - acc: 0.7236\n",
            "Epoch 82/100\n",
            "15462/15462 [==============================] - 20s 1ms/sample - loss: 1.5249 - acc: 0.7254\n",
            "Epoch 83/100\n",
            "15462/15462 [==============================] - 20s 1ms/sample - loss: 1.5020 - acc: 0.7308\n",
            "Epoch 84/100\n",
            "15462/15462 [==============================] - 20s 1ms/sample - loss: 1.4941 - acc: 0.7299\n",
            "Epoch 85/100\n",
            "15462/15462 [==============================] - 20s 1ms/sample - loss: 1.4755 - acc: 0.7339\n",
            "Epoch 86/100\n",
            "15462/15462 [==============================] - 20s 1ms/sample - loss: 1.4523 - acc: 0.7431\n",
            "Epoch 87/100\n",
            "15462/15462 [==============================] - 20s 1ms/sample - loss: 1.4510 - acc: 0.7398\n",
            "Epoch 88/100\n",
            "15462/15462 [==============================] - 21s 1ms/sample - loss: 1.4379 - acc: 0.7405\n",
            "Epoch 89/100\n",
            "15462/15462 [==============================] - 20s 1ms/sample - loss: 1.4275 - acc: 0.7430\n",
            "Epoch 90/100\n",
            "15462/15462 [==============================] - 20s 1ms/sample - loss: 1.4053 - acc: 0.7487\n",
            "Epoch 91/100\n",
            "15462/15462 [==============================] - 20s 1ms/sample - loss: 1.3972 - acc: 0.7477\n",
            "Epoch 92/100\n",
            "15462/15462 [==============================] - 20s 1ms/sample - loss: 1.3652 - acc: 0.7588\n",
            "Epoch 93/100\n",
            "15462/15462 [==============================] - 20s 1ms/sample - loss: 1.3732 - acc: 0.7546\n",
            "Epoch 94/100\n",
            "15462/15462 [==============================] - 20s 1ms/sample - loss: 1.3536 - acc: 0.7564\n",
            "Epoch 95/100\n",
            "15462/15462 [==============================] - 20s 1ms/sample - loss: 1.3313 - acc: 0.7614\n",
            "Epoch 96/100\n",
            "15462/15462 [==============================] - 20s 1ms/sample - loss: 1.3273 - acc: 0.7663\n",
            "Epoch 97/100\n",
            "15462/15462 [==============================] - 21s 1ms/sample - loss: 1.3088 - acc: 0.7678\n",
            "Epoch 98/100\n",
            "15462/15462 [==============================] - 20s 1ms/sample - loss: 1.3236 - acc: 0.7603\n",
            "Epoch 99/100\n",
            "15462/15462 [==============================] - 20s 1ms/sample - loss: 1.3007 - acc: 0.7657\n",
            "Epoch 100/100\n",
            "15462/15462 [==============================] - 20s 1ms/sample - loss: 1.2886 - acc: 0.7692\n"
          ],
          "name": "stdout"
        }
      ]
    },
    {
      "cell_type": "code",
      "metadata": {
        "id": "1fXTEO3GJ282",
        "colab_type": "code",
        "colab": {
          "base_uri": "https://localhost:8080/",
          "height": 545
        },
        "outputId": "adca3c3c-b681-4840-d9ab-9b9464e9e9d1"
      },
      "source": [
        "import matplotlib.pyplot as plt\n",
        "acc = history.history['acc']\n",
        "loss = history.history['loss']\n",
        "\n",
        "epochs = range(len(acc))\n",
        "\n",
        "plt.plot(epochs, acc, 'b', label='Training accuracy')\n",
        "plt.title('Training accuracy')\n",
        "\n",
        "plt.figure()\n",
        "\n",
        "plt.plot(epochs, loss, 'b', label='Training Loss')\n",
        "plt.title('Training loss')\n",
        "plt.legend()\n",
        "\n",
        "plt.show()"
      ],
      "execution_count": 44,
      "outputs": [
        {
          "output_type": "display_data",
          "data": {
            "image/png": "[encoded data removed]",
            "text/plain": [
              "<Figure size 432x288 with 1 Axes>"
            ]
          },
          "metadata": {
            "tags": []
          }
        },
        {
          "output_type": "display_data",
          "data": {
            "image/png": "[encoded data removed]",
            "text/plain": [
              "<Figure size 432x288 with 1 Axes>"
            ]
          },
          "metadata": {
            "tags": []
          }
        }
      ]
    },
    {
      "cell_type": "code",
      "metadata": {
        "id": "6Vc6PHgxa6Hm",
        "colab_type": "code",
        "colab": {
          "base_uri": "https://localhost:8080/",
          "height": 54
        },
        "outputId": "70dfb72a-e599-4ecd-e4fc-f748ec6ac266"
      },
      "source": [
        "seed_text = \"Help me Obi Wan Kenobi, you're my only hope\"\n",
        "next_words = 100\n",
        "  \n",
        "for _ in range(next_words):\n",
        "\ttoken_list = tokenizer.texts_to_sequences([seed_text])[0]\n",
        "\ttoken_list = pad_sequences([token_list], maxlen=max_sequence_len-1, padding='pre')\n",
        "\tpredicted = model.predict_classes(token_list, verbose=0)\n",
        "\toutput_word = \"\"\n",
        "\tfor word, index in tokenizer.word_index.items():\n",
        "\t\tif index == predicted:\n",
        "\t\t\toutput_word = word\n",
        "\t\t\tbreak\n",
        "\tseed_text += \" \" + output_word\n",
        "print(seed_text)"
      ],
      "execution_count": 45,
      "outputs": [
        {
          "output_type": "stream",
          "text": [
            "Help me Obi Wan Kenobi, you're my only hope which you in brain forth state old pain rare away youth dyed so spent new old heart more kind still spent prove dead date dead loss so deeds so aside aside lie so days bright still aside live so kind old old 'no ' prove live now approve so bright days free tend grind kind on thee forsaken rage old worth forth behind their treasure days ' so bright aside free room gone on me old pride go a shame place appear appear new latch bide me quite date new gone on his way day dead day more mother spent\n"
          ],
          "name": "stdout"
        }
      ]
    },
    {
      "cell_type": "code",
      "metadata": {
        "id": "uuMjY-g6HAyZ",
        "colab_type": "code",
        "colab": {
          "base_uri": "https://localhost:8080/",
          "height": 34
        },
        "outputId": "d2e70f78-69a0-4a9e-e344-81af1162570c"
      },
      "source": [
        "seed_text = \"Somewhere over the rainbow\"\n",
        "next_words = 15\n",
        "  \n",
        "for _ in range(next_words):\n",
        "\ttoken_list = tokenizer.texts_to_sequences([seed_text])[0]\n",
        "\ttoken_list = pad_sequences([token_list], maxlen=max_sequence_len-1, padding='pre')\n",
        "\tpredicted = model.predict_classes(token_list, verbose=0)\n",
        "\toutput_word = \"\"\n",
        "\tfor word, index in tokenizer.word_index.items():\n",
        "\t\tif index == predicted:\n",
        "\t\t\toutput_word = word\n",
        "\t\t\tbreak\n",
        "\tseed_text += \" \" + output_word\n",
        "print(seed_text)"
      ],
      "execution_count": 49,
      "outputs": [
        {
          "output_type": "stream",
          "text": [
            "Somewhere over the rainbow number thou too hour hour their chest lie torn dost new live new date of\n"
          ],
          "name": "stdout"
        }
      ]
    }
  ]
}