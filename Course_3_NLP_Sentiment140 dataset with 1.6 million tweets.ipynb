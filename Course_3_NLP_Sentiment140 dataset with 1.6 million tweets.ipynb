{
  "nbformat": 4,
  "nbformat_minor": 0,
  "metadata": {
    "colab": {
      "name": "NLP Course - Week 3 Exercise Answer.ipynb",
      "provenance": []
    },
    "kernelspec": {
      "name": "python3",
      "display_name": "Python 3"
    },
    "accelerator": "GPU"
  },
  "cells": [
    {
      "cell_type": "code",
      "metadata": {
        "id": "hmA6EzkQJ5jt",
        "colab_type": "code",
        "colab": {
          "base_uri": "https://localhost:8080/",
          "height": 62
        },
        "outputId": "e76b8514-0647-411e-8db3-ad68e8032405"
      },
      "source": [
        "import json\n",
        "import tensorflow as tf\n",
        "import csv\n",
        "import random\n",
        "import numpy as np\n",
        "\n",
        "from tensorflow.keras.preprocessing.text import Tokenizer\n",
        "from tensorflow.keras.preprocessing.sequence import pad_sequences\n",
        "from tensorflow.keras.utils import to_categorical\n",
        "from tensorflow.keras import regularizers\n",
        "\n",
        "\n",
        "embedding_dim = 100\n",
        "max_length = 16\n",
        "trunc_type='post'\n",
        "padding_type='post'\n",
        "oov_tok = \"<OOV>\"\n",
        "training_size=160000\n",
        "test_portion=.1\n",
        "\n",
        "corpus = []\n"
      ],
      "execution_count": 2,
      "outputs": [
        {
          "output_type": "display_data",
          "data": {
            "text/html": [
              "<p style=\"color: red;\">\n",
              "The default version of TensorFlow in Colab will soon switch to TensorFlow 2.x.<br>\n",
              "We recommend you <a href=\"https://www.tensorflow.org/guide/migrate\" target=\"_blank\">upgrade</a> now \n",
              "or ensure your notebook will continue to use TensorFlow 1.x via the <code>%tensorflow_version 1.x</code> magic:\n",
              "<a href=\"https://colab.research.google.com/notebooks/tensorflow_version.ipynb\" target=\"_blank\">more info</a>.</p>\n"
            ],
            "text/plain": [
              "<IPython.core.display.HTML object>"
            ]
          },
          "metadata": {
            "tags": []
          }
        }
      ]
    },
    {
      "cell_type": "code",
      "metadata": {
        "id": "bM0l_dORKqE0",
        "colab_type": "code",
        "outputId": "7b39d009-6957-4698-caac-61b397ee8432",
        "colab": {
          "base_uri": "https://localhost:8080/",
          "height": 202
        }
      },
      "source": [
        "\n",
        "# Note that I cleaned the Stanford dataset to remove LATIN1 encoding to make it easier for Python CSV reader\n",
        "# You can do that yourself with:\n",
        "# iconv -f LATIN1 -t UTF8 training.1600000.processed.noemoticon.csv -o training_cleaned.csv\n",
        "# I then hosted it on my site to make it easier to use in this notebook\n",
        "\n",
        "!wget --no-check-certificate \\\n",
        "    https://storage.googleapis.com/laurencemoroney-blog.appspot.com/training_cleaned.csv \\\n",
        "    -O /tmp/training_cleaned.csv\n",
        "\n",
        "num_sentences = 0\n",
        "\n",
        "with open(\"/tmp/training_cleaned.csv\") as csvfile:\n",
        "    reader = csv.reader(csvfile, delimiter=',')\n",
        "    for row in reader:\n",
        "        list_item=[]\n",
        "        list_item.append(row[5])\n",
        "        this_label=row[0]\n",
        "        if this_label=='0':\n",
        "            list_item.append(0)\n",
        "        else:\n",
        "            list_item.append(1)\n",
        "        num_sentences = num_sentences + 1\n",
        "        corpus.append(list_item)\n",
        "\n",
        "\n"
      ],
      "execution_count": 3,
      "outputs": [
        {
          "output_type": "stream",
          "text": [
            "--2020-01-04 23:00:54--  https://storage.googleapis.com/laurencemoroney-blog.appspot.com/training_cleaned.csv\n",
            "Resolving storage.googleapis.com (storage.googleapis.com)... 74.125.20.128, 2607:f8b0:400e:c09::80\n",
            "Connecting to storage.googleapis.com (storage.googleapis.com)|74.125.20.128|:443... connected.\n",
            "HTTP request sent, awaiting response... 200 OK\n",
            "Length: 238942690 (228M) [application/octet-stream]\n",
            "Saving to: ‘/tmp/training_cleaned.csv’\n",
            "\n",
            "/tmp/training_clean 100%[===================>] 227.87M   221MB/s    in 1.0s    \n",
            "\n",
            "2020-01-04 23:00:55 (221 MB/s) - ‘/tmp/training_cleaned.csv’ saved [238942690/238942690]\n",
            "\n"
          ],
          "name": "stdout"
        }
      ]
    },
    {
      "cell_type": "code",
      "metadata": {
        "id": "3kxblBUjEUX-",
        "colab_type": "code",
        "outputId": "0fd64f71-0b8a-4773-9fe7-9c45e0ea9dbe",
        "colab": {
          "base_uri": "https://localhost:8080/",
          "height": 87
        }
      },
      "source": [
        "print(num_sentences)\n",
        "print(len(corpus))\n",
        "print(corpus[:5])\n",
        "\n",
        "# Expected Output:\n",
        "# 1600000\n",
        "# 1600000\n",
        "# [\"is upset that he can't update his Facebook by texting it... and might cry as a result  School today also. Blah!\", 0]"
      ],
      "execution_count": 4,
      "outputs": [
        {
          "output_type": "stream",
          "text": [
            "1600000\n",
            "1600000\n",
            "[[\"@switchfoot http://twitpic.com/2y1zl - Awww, that's a bummer.  You shoulda got David Carr of Third Day to do it. ;D\", 0], [\"is upset that he can't update his Facebook by texting it... and might cry as a result  School today also. Blah!\", 0], ['@Kenichan I dived many times for the ball. Managed to save 50%  The rest go out of bounds', 0], ['my whole body feels itchy and like its on fire ', 0], [\"@nationwideclass no, it's not behaving at all. i'm mad. why am i here? because I can't see you all over there. \", 0]]\n"
          ],
          "name": "stdout"
        }
      ]
    },
    {
      "cell_type": "code",
      "metadata": {
        "id": "ohOGz24lsNAD",
        "colab_type": "code",
        "colab": {}
      },
      "source": [
        "sentences=[]\n",
        "labels=[]\n",
        "random.shuffle(corpus)\n",
        "for x in range(training_size):\n",
        "    sentences.append(corpus[x][0])\n",
        "    labels.append(corpus[x][1])\n",
        "\n",
        "\n",
        "tokenizer = Tokenizer()\n",
        "tokenizer.fit_on_texts(sentences)\n",
        "\n",
        "word_index = tokenizer.word_index\n",
        "vocab_size=len(word_index)\n",
        "\n",
        "sequences = tokenizer.texts_to_sequences(sentences)\n",
        "padded = pad_sequences(sequences, maxlen=max_length, padding=padding_type, truncating=trunc_type)\n",
        "\n",
        "split = int(test_portion * training_size)\n",
        "\n",
        "test_sequences = padded[0:split]\n",
        "training_sequences = padded[split:training_size]\n",
        "test_labels = labels[0:split]\n",
        "training_labels = labels[split:training_size]"
      ],
      "execution_count": 0,
      "outputs": []
    },
    {
      "cell_type": "code",
      "metadata": {
        "id": "gIrtRem1En3N",
        "colab_type": "code",
        "outputId": "2360137d-eed4-4a1a-ecf4-75b38ca56bf8",
        "colab": {
          "base_uri": "https://localhost:8080/",
          "height": 50
        }
      },
      "source": [
        "print(vocab_size)\n",
        "print(word_index['i'])\n",
        "# Expected Output\n",
        "# 138858\n",
        "# 1"
      ],
      "execution_count": 6,
      "outputs": [
        {
          "output_type": "stream",
          "text": [
            "138781\n",
            "1\n"
          ],
          "name": "stdout"
        }
      ]
    },
    {
      "cell_type": "code",
      "metadata": {
        "id": "C1zdgJkusRh0",
        "colab_type": "code",
        "outputId": "369c446c-2a44-4388-ab48-304bc96aa5a4",
        "colab": {
          "base_uri": "https://localhost:8080/",
          "height": 202
        }
      },
      "source": [
        "# Note this is the 100 dimension version of GloVe from Stanford\n",
        "# I unzipped and hosted it on my site to make this notebook easier\n",
        "!wget --no-check-certificate \\\n",
        "    https://storage.googleapis.com/laurencemoroney-blog.appspot.com/glove.6B.100d.txt \\\n",
        "    -O /tmp/glove.6B.100d.txt\n",
        "embeddings_index = {};\n",
        "with open('/tmp/glove.6B.100d.txt') as f:\n",
        "    for line in f:\n",
        "        values = line.split();\n",
        "        word = values[0];\n",
        "        coefs = np.asarray(values[1:], dtype='float32');\n",
        "        embeddings_index[word] = coefs;\n",
        "\n",
        "embeddings_matrix = np.zeros((vocab_size+1, embedding_dim));\n",
        "for word, i in word_index.items():\n",
        "    embedding_vector = embeddings_index.get(word);\n",
        "    if embedding_vector is not None:\n",
        "        embeddings_matrix[i] = embedding_vector;"
      ],
      "execution_count": 7,
      "outputs": [
        {
          "output_type": "stream",
          "text": [
            "--2020-01-04 23:01:24--  https://storage.googleapis.com/laurencemoroney-blog.appspot.com/glove.6B.100d.txt\n",
            "Resolving storage.googleapis.com (storage.googleapis.com)... 74.125.142.128, 2607:f8b0:400e:c08::80\n",
            "Connecting to storage.googleapis.com (storage.googleapis.com)|74.125.142.128|:443... connected.\n",
            "HTTP request sent, awaiting response... 200 OK\n",
            "Length: 347116733 (331M) [text/plain]\n",
            "Saving to: ‘/tmp/glove.6B.100d.txt’\n",
            "\n",
            "/tmp/glove.6B.100d. 100%[===================>] 331.04M   207MB/s    in 1.6s    \n",
            "\n",
            "2020-01-04 23:01:26 (207 MB/s) - ‘/tmp/glove.6B.100d.txt’ saved [347116733/347116733]\n",
            "\n"
          ],
          "name": "stdout"
        }
      ]
    },
    {
      "cell_type": "code",
      "metadata": {
        "id": "71NLk_lpFLNt",
        "colab_type": "code",
        "outputId": "53de6708-4e00-48d5-83dd-eac991ac2f3d",
        "colab": {
          "base_uri": "https://localhost:8080/",
          "height": 34
        }
      },
      "source": [
        "print(len(embeddings_matrix))\n",
        "# Expected Output\n",
        "# 138859"
      ],
      "execution_count": 8,
      "outputs": [
        {
          "output_type": "stream",
          "text": [
            "138782\n"
          ],
          "name": "stdout"
        }
      ]
    },
    {
      "cell_type": "code",
      "metadata": {
        "colab_type": "code",
        "id": "iKKvbuEBOGFz",
        "colab": {
          "base_uri": "https://localhost:8080/",
          "height": 1000
        },
        "outputId": "7c859160-50eb-44fc-dad3-e1ea6dff07b1"
      },
      "source": [
        "model = tf.keras.Sequential([\n",
        "    tf.keras.layers.Embedding(vocab_size+1, embedding_dim, input_length=max_length, weights=[embeddings_matrix], trainable=False),\n",
        "    tf.keras.layers.Dropout(0.2),\n",
        "    tf.keras.layers.Conv1D(64, 5, activation='relu'),\n",
        "    tf.keras.layers.MaxPooling1D(pool_size=4),\n",
        "    tf.keras.layers.LSTM(64),\n",
        "    tf.keras.layers.Dense(1, activation='sigmoid')\n",
        "])\n",
        "model.compile(loss='binary_crossentropy',optimizer='adam',metrics=['accuracy'])\n",
        "model.summary()\n",
        "\n",
        "num_epochs = 50\n",
        "history = model.fit(training_sequences, training_labels, epochs=num_epochs, validation_data=(test_sequences, test_labels), verbose=2)\n",
        "\n",
        "print(\"Training Complete\")\n"
      ],
      "execution_count": 9,
      "outputs": [
        {
          "output_type": "stream",
          "text": [
            "WARNING:tensorflow:From /usr/local/lib/python3.6/dist-packages/tensorflow_core/python/keras/initializers.py:119: calling RandomUniform.__init__ (from tensorflow.python.ops.init_ops) with dtype is deprecated and will be removed in a future version.\n",
            "Instructions for updating:\n",
            "Call initializer instance with the dtype argument instead of passing it to the constructor\n",
            "WARNING:tensorflow:From /usr/local/lib/python3.6/dist-packages/tensorflow_core/python/ops/resource_variable_ops.py:1630: calling BaseResourceVariable.__init__ (from tensorflow.python.ops.resource_variable_ops) with constraint is deprecated and will be removed in a future version.\n",
            "Instructions for updating:\n",
            "If using Keras pass *_constraint arguments to layers.\n",
            "WARNING:tensorflow:From /usr/local/lib/python3.6/dist-packages/tensorflow_core/python/ops/nn_impl.py:183: where (from tensorflow.python.ops.array_ops) is deprecated and will be removed in a future version.\n",
            "Instructions for updating:\n",
            "Use tf.where in 2.0, which has the same broadcast rule as np.where\n",
            "Model: \"sequential\"\n",
            "_________________________________________________________________\n",
            "Layer (type)                 Output Shape              Param #   \n",
            "=================================================================\n",
            "embedding (Embedding)        (None, 16, 100)           13878200  \n",
            "_________________________________________________________________\n",
            "dropout (Dropout)            (None, 16, 100)           0         \n",
            "_________________________________________________________________\n",
            "conv1d (Conv1D)              (None, 12, 64)            32064     \n",
            "_________________________________________________________________\n",
            "max_pooling1d (MaxPooling1D) (None, 3, 64)             0         \n",
            "_________________________________________________________________\n",
            "lstm (LSTM)                  (None, 64)                33024     \n",
            "_________________________________________________________________\n",
            "dense (Dense)                (None, 1)                 65        \n",
            "=================================================================\n",
            "Total params: 13,943,353\n",
            "Trainable params: 65,153\n",
            "Non-trainable params: 13,878,200\n",
            "_________________________________________________________________\n",
            "Train on 144000 samples, validate on 16000 samples\n",
            "Epoch 1/50\n",
            "144000/144000 - 36s - loss: 0.5676 - acc: 0.6990 - val_loss: 0.5714 - val_acc: 0.6921\n",
            "Epoch 2/50\n",
            "144000/144000 - 30s - loss: 0.5264 - acc: 0.7317 - val_loss: 0.5099 - val_acc: 0.7433\n",
            "Epoch 3/50\n",
            "144000/144000 - 29s - loss: 0.5089 - acc: 0.7445 - val_loss: 0.5089 - val_acc: 0.7456\n",
            "Epoch 4/50\n",
            "144000/144000 - 29s - loss: 0.4982 - acc: 0.7531 - val_loss: 0.5095 - val_acc: 0.7449\n",
            "Epoch 5/50\n",
            "144000/144000 - 29s - loss: 0.4905 - acc: 0.7578 - val_loss: 0.5077 - val_acc: 0.7452\n",
            "Epoch 6/50\n",
            "144000/144000 - 29s - loss: 0.4844 - acc: 0.7625 - val_loss: 0.4958 - val_acc: 0.7536\n",
            "Epoch 7/50\n",
            "144000/144000 - 29s - loss: 0.4782 - acc: 0.7660 - val_loss: 0.4955 - val_acc: 0.7586\n",
            "Epoch 8/50\n",
            "144000/144000 - 29s - loss: 0.4738 - acc: 0.7685 - val_loss: 0.4985 - val_acc: 0.7535\n",
            "Epoch 9/50\n",
            "144000/144000 - 29s - loss: 0.4700 - acc: 0.7714 - val_loss: 0.4979 - val_acc: 0.7511\n",
            "Epoch 10/50\n",
            "144000/144000 - 29s - loss: 0.4652 - acc: 0.7730 - val_loss: 0.5020 - val_acc: 0.7533\n",
            "Epoch 11/50\n",
            "144000/144000 - 29s - loss: 0.4607 - acc: 0.7777 - val_loss: 0.5045 - val_acc: 0.7519\n",
            "Epoch 12/50\n",
            "144000/144000 - 29s - loss: 0.4584 - acc: 0.7788 - val_loss: 0.5045 - val_acc: 0.7487\n",
            "Epoch 13/50\n",
            "144000/144000 - 30s - loss: 0.4571 - acc: 0.7787 - val_loss: 0.5051 - val_acc: 0.7523\n",
            "Epoch 14/50\n",
            "144000/144000 - 29s - loss: 0.4542 - acc: 0.7810 - val_loss: 0.5145 - val_acc: 0.7471\n",
            "Epoch 15/50\n",
            "144000/144000 - 30s - loss: 0.4528 - acc: 0.7812 - val_loss: 0.5102 - val_acc: 0.7519\n",
            "Epoch 16/50\n",
            "144000/144000 - 29s - loss: 0.4512 - acc: 0.7825 - val_loss: 0.5087 - val_acc: 0.7509\n",
            "Epoch 17/50\n",
            "144000/144000 - 29s - loss: 0.4489 - acc: 0.7834 - val_loss: 0.5112 - val_acc: 0.7500\n",
            "Epoch 18/50\n",
            "144000/144000 - 29s - loss: 0.4486 - acc: 0.7834 - val_loss: 0.5100 - val_acc: 0.7490\n",
            "Epoch 19/50\n",
            "144000/144000 - 30s - loss: 0.4449 - acc: 0.7867 - val_loss: 0.5091 - val_acc: 0.7498\n",
            "Epoch 20/50\n",
            "144000/144000 - 29s - loss: 0.4449 - acc: 0.7850 - val_loss: 0.5088 - val_acc: 0.7531\n",
            "Epoch 21/50\n",
            "144000/144000 - 30s - loss: 0.4441 - acc: 0.7870 - val_loss: 0.5093 - val_acc: 0.7508\n",
            "Epoch 22/50\n",
            "144000/144000 - 29s - loss: 0.4425 - acc: 0.7886 - val_loss: 0.5124 - val_acc: 0.7499\n",
            "Epoch 23/50\n",
            "144000/144000 - 29s - loss: 0.4411 - acc: 0.7876 - val_loss: 0.5128 - val_acc: 0.7524\n",
            "Epoch 24/50\n",
            "144000/144000 - 30s - loss: 0.4398 - acc: 0.7901 - val_loss: 0.5101 - val_acc: 0.7484\n",
            "Epoch 25/50\n",
            "144000/144000 - 29s - loss: 0.4397 - acc: 0.7899 - val_loss: 0.5092 - val_acc: 0.7517\n",
            "Epoch 26/50\n",
            "144000/144000 - 30s - loss: 0.4393 - acc: 0.7900 - val_loss: 0.5081 - val_acc: 0.7549\n",
            "Epoch 27/50\n",
            "144000/144000 - 29s - loss: 0.4383 - acc: 0.7902 - val_loss: 0.5087 - val_acc: 0.7517\n",
            "Epoch 28/50\n",
            "144000/144000 - 29s - loss: 0.4381 - acc: 0.7903 - val_loss: 0.5085 - val_acc: 0.7514\n",
            "Epoch 29/50\n",
            "144000/144000 - 29s - loss: 0.4375 - acc: 0.7907 - val_loss: 0.5154 - val_acc: 0.7480\n",
            "Epoch 30/50\n",
            "144000/144000 - 29s - loss: 0.4362 - acc: 0.7919 - val_loss: 0.5132 - val_acc: 0.7502\n",
            "Epoch 31/50\n",
            "144000/144000 - 29s - loss: 0.4362 - acc: 0.7918 - val_loss: 0.5135 - val_acc: 0.7519\n",
            "Epoch 32/50\n",
            "144000/144000 - 30s - loss: 0.4338 - acc: 0.7933 - val_loss: 0.5208 - val_acc: 0.7520\n",
            "Epoch 33/50\n",
            "144000/144000 - 29s - loss: 0.4355 - acc: 0.7927 - val_loss: 0.5136 - val_acc: 0.7461\n",
            "Epoch 34/50\n",
            "144000/144000 - 30s - loss: 0.4341 - acc: 0.7933 - val_loss: 0.5165 - val_acc: 0.7501\n",
            "Epoch 35/50\n",
            "144000/144000 - 30s - loss: 0.4353 - acc: 0.7916 - val_loss: 0.5120 - val_acc: 0.7502\n",
            "Epoch 36/50\n",
            "144000/144000 - 30s - loss: 0.4331 - acc: 0.7942 - val_loss: 0.5140 - val_acc: 0.7484\n",
            "Epoch 37/50\n",
            "144000/144000 - 30s - loss: 0.4343 - acc: 0.7935 - val_loss: 0.5242 - val_acc: 0.7484\n",
            "Epoch 38/50\n",
            "144000/144000 - 30s - loss: 0.4328 - acc: 0.7936 - val_loss: 0.5199 - val_acc: 0.7486\n",
            "Epoch 39/50\n",
            "144000/144000 - 30s - loss: 0.4329 - acc: 0.7930 - val_loss: 0.5166 - val_acc: 0.7504\n",
            "Epoch 40/50\n",
            "144000/144000 - 30s - loss: 0.4328 - acc: 0.7927 - val_loss: 0.5161 - val_acc: 0.7481\n",
            "Epoch 41/50\n",
            "144000/144000 - 30s - loss: 0.4328 - acc: 0.7933 - val_loss: 0.5151 - val_acc: 0.7484\n",
            "Epoch 42/50\n",
            "144000/144000 - 30s - loss: 0.4323 - acc: 0.7938 - val_loss: 0.5172 - val_acc: 0.7511\n",
            "Epoch 43/50\n",
            "144000/144000 - 30s - loss: 0.4330 - acc: 0.7943 - val_loss: 0.5152 - val_acc: 0.7494\n",
            "Epoch 44/50\n",
            "144000/144000 - 30s - loss: 0.4328 - acc: 0.7936 - val_loss: 0.5147 - val_acc: 0.7498\n",
            "Epoch 45/50\n",
            "144000/144000 - 30s - loss: 0.4315 - acc: 0.7939 - val_loss: 0.5218 - val_acc: 0.7516\n",
            "Epoch 46/50\n",
            "144000/144000 - 30s - loss: 0.4313 - acc: 0.7950 - val_loss: 0.5156 - val_acc: 0.7502\n",
            "Epoch 47/50\n",
            "144000/144000 - 30s - loss: 0.4307 - acc: 0.7951 - val_loss: 0.5210 - val_acc: 0.7496\n",
            "Epoch 48/50\n",
            "144000/144000 - 30s - loss: 0.4307 - acc: 0.7951 - val_loss: 0.5148 - val_acc: 0.7480\n",
            "Epoch 49/50\n",
            "144000/144000 - 30s - loss: 0.4304 - acc: 0.7952 - val_loss: 0.5216 - val_acc: 0.7501\n",
            "Epoch 50/50\n",
            "144000/144000 - 30s - loss: 0.4313 - acc: 0.7946 - val_loss: 0.5148 - val_acc: 0.7439\n",
            "Training Complete\n"
          ],
          "name": "stdout"
        }
      ]
    },
    {
      "cell_type": "code",
      "metadata": {
        "id": "qxju4ItJKO8F",
        "colab_type": "code",
        "colab": {
          "base_uri": "https://localhost:8080/",
          "height": 229
        },
        "outputId": "252b703b-b82b-4e12-f215-2624b871a1b6"
      },
      "source": [
        "import matplotlib.image  as mpimg\n",
        "import matplotlib.pyplot as plt\n",
        "\n",
        "#-----------------------------------------------------------\n",
        "# Retrieve a list of list results on training and test data\n",
        "# sets for each training epoch\n",
        "#-----------------------------------------------------------\n",
        "acc=history.history['acc']\n",
        "val_acc=history.history['val_acc']\n",
        "loss=history.history['loss']\n",
        "val_loss=history.history['val_loss']\n",
        "\n",
        "epochs=range(len(acc)) # Get number of epochs\n",
        "\n",
        "#------------------------------------------------\n",
        "# Plot training and validation accuracy per epoch\n",
        "#------------------------------------------------\n",
        "plt.plot(epochs, acc, 'r')\n",
        "plt.plot(epochs, val_acc, 'b')\n",
        "plt.title('Training and validation accuracy')\n",
        "plt.xlabel(\"Epochs\")\n",
        "plt.ylabel(\"Accuracy\")\n",
        "plt.legend([\"Accuracy\", \"Validation Accuracy\"])\n",
        "\n",
        "plt.figure()\n",
        "\n",
        "#------------------------------------------------\n",
        "# Plot training and validation loss per epoch\n",
        "#------------------------------------------------\n",
        "plt.plot(epochs, loss, 'r')\n",
        "plt.plot(epochs, val_loss, 'b')\n",
        "plt.title('Training and validation loss')\n",
        "plt.xlabel(\"Epochs\")\n",
        "plt.ylabel(\"Loss\")\n",
        "plt.legend([\"Loss\", \"Validation Loss\"])\n",
        "\n",
        "plt.figure()\n",
        "\n",
        "\n",
        "# Expected Output\n",
        "# A chart where the validation loss does not increase sharply!"
      ],
      "execution_count": 1,
      "outputs": [
        {
          "output_type": "error",
          "ename": "NameError",
          "evalue": "ignored",
          "traceback": [
            "\u001b[0;31m---------------------------------------------------------------------------\u001b[0m",
            "\u001b[0;31mNameError\u001b[0m                                 Traceback (most recent call last)",
            "\u001b[0;32m<ipython-input-1-75ba2cef307b>\u001b[0m in \u001b[0;36m<module>\u001b[0;34m()\u001b[0m\n\u001b[1;32m      6\u001b[0m \u001b[0;31m# sets for each training epoch\u001b[0m\u001b[0;34m\u001b[0m\u001b[0;34m\u001b[0m\u001b[0;34m\u001b[0m\u001b[0m\n\u001b[1;32m      7\u001b[0m \u001b[0;31m#-----------------------------------------------------------\u001b[0m\u001b[0;34m\u001b[0m\u001b[0;34m\u001b[0m\u001b[0;34m\u001b[0m\u001b[0m\n\u001b[0;32m----> 8\u001b[0;31m \u001b[0macc\u001b[0m\u001b[0;34m=\u001b[0m\u001b[0mhistory\u001b[0m\u001b[0;34m.\u001b[0m\u001b[0mhistory\u001b[0m\u001b[0;34m[\u001b[0m\u001b[0;34m'acc'\u001b[0m\u001b[0;34m]\u001b[0m\u001b[0;34m\u001b[0m\u001b[0;34m\u001b[0m\u001b[0m\n\u001b[0m\u001b[1;32m      9\u001b[0m \u001b[0mval_acc\u001b[0m\u001b[0;34m=\u001b[0m\u001b[0mhistory\u001b[0m\u001b[0;34m.\u001b[0m\u001b[0mhistory\u001b[0m\u001b[0;34m[\u001b[0m\u001b[0;34m'val_acc'\u001b[0m\u001b[0;34m]\u001b[0m\u001b[0;34m\u001b[0m\u001b[0;34m\u001b[0m\u001b[0m\n\u001b[1;32m     10\u001b[0m \u001b[0mloss\u001b[0m\u001b[0;34m=\u001b[0m\u001b[0mhistory\u001b[0m\u001b[0;34m.\u001b[0m\u001b[0mhistory\u001b[0m\u001b[0;34m[\u001b[0m\u001b[0;34m'loss'\u001b[0m\u001b[0;34m]\u001b[0m\u001b[0;34m\u001b[0m\u001b[0;34m\u001b[0m\u001b[0m\n",
            "\u001b[0;31mNameError\u001b[0m: name 'history' is not defined"
          ]
        }
      ]
    }
  ]
}