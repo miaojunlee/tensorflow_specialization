{
 "cells": [
  {
   "cell_type": "code",
   "execution_count": 1,
   "metadata": {},
   "outputs": [],
   "source": [
    "import tensorflow as tf\n",
    "import numpy as np\n",
    "import pandas as pd\n",
    "import matplotlib.pyplot as plt\n",
    "%matplotlib inline"
   ]
  },
  {
   "cell_type": "code",
   "execution_count": 2,
   "metadata": {},
   "outputs": [
    {
     "name": "stderr",
     "output_type": "stream",
     "text": [
      "Using TensorFlow backend.\n"
     ]
    }
   ],
   "source": [
    "import keras"
   ]
  },
  {
   "cell_type": "code",
   "execution_count": 3,
   "metadata": {},
   "outputs": [],
   "source": [
    "fashion_mnist = keras.datasets.fashion_mnist"
   ]
  },
  {
   "cell_type": "code",
   "execution_count": 5,
   "metadata": {},
   "outputs": [
    {
     "data": {
      "text/plain": [
       "module"
      ]
     },
     "execution_count": 5,
     "metadata": {},
     "output_type": "execute_result"
    }
   ],
   "source": [
    "type(fashion_mnist)"
   ]
  },
  {
   "cell_type": "code",
   "execution_count": 7,
   "metadata": {},
   "outputs": [
    {
     "name": "stdout",
     "output_type": "stream",
     "text": [
      "(60000, 28, 28)\n",
      "(60000,)\n",
      "(10000, 28, 28)\n",
      "(10000,)\n"
     ]
    }
   ],
   "source": [
    "(train_images, train_labels), (test_images, test_labels) = fashion_mnist.load_data()\n",
    "print(train_images.shape)\n",
    "print(train_labels.shape)\n",
    "print(test_images.shape)\n",
    "print(test_labels.shape)"
   ]
  },
  {
   "cell_type": "code",
   "execution_count": 12,
   "metadata": {},
   "outputs": [
    {
     "data": {
      "image/png": "[encoded data removed]",
      "text/plain": [
       "<Figure size 432x288 with 1 Axes>"
      ]
     },
     "metadata": {
      "needs_background": "light"
     },
     "output_type": "display_data"
    }
   ],
   "source": [
    "plt.imshow(train_images[29]);"
   ]
  },
  {
   "cell_type": "code",
   "execution_count": 13,
   "metadata": {},
   "outputs": [
    {
     "data": {
      "image/png": "[encoded data removed]",
      "text/plain": [
       "<Figure size 432x288 with 1 Axes>"
      ]
     },
     "metadata": {
      "needs_background": "light"
     },
     "output_type": "display_data"
    }
   ],
   "source": [
    "plt.imshow(train_images[128]);"
   ]
  },
  {
   "cell_type": "code",
   "execution_count": 16,
   "metadata": {},
   "outputs": [
    {
     "data": {
      "text/plain": [
       "array([[  0,   0,   0,   0,   0,   0,   0,   0,   0,   0,   0,  36, 111,\n",
       "        145, 152, 155,  82,   6,   0,   0,   0,   0,   0,   0,   0,   0,\n",
       "          0,   0],\n",
       "       [  0,   0,   0,   0,   0,   0,   0,   0,   0,   0, 170, 234, 226,\n",
       "        240, 233, 225, 222, 255,  32,   0,   6,   0,   0,   0,   0,   0,\n",
       "          0,   0],\n",
       "       [  0,   0,   0,   0,   0,   0,   0,   4,   0,   9, 235, 207, 205,\n",
       "        212, 207, 226, 214, 219, 175,   0,   0,   0,   1,   0,   0,   0,\n",
       "          0,   0],\n",
       "       [  0,   0,   0,   0,   0,   0,   0,   0,   0, 175, 251, 220, 232,\n",
       "        214, 195, 242, 235, 222, 224, 123,  25,   0,   0,   0,   0,   0,\n",
       "          0,   0],\n",
       "       [  0,   0,   0,   0,   0,   0,   0,  57, 255, 244, 238, 232, 239,\n",
       "        144, 132, 220, 215, 213, 225, 237, 231, 174,   0,   0,   0,   0,\n",
       "          0,   0],\n",
       "       [  0,   0,   0,   0,   0,   0,  59, 245, 236, 219, 231, 249, 245,\n",
       "        253, 239, 210, 213, 229, 211, 210, 211, 230,  39,   0,   0,   0,\n",
       "          0,   0],\n",
       "       [  0,   0,   0,   0,   0,   0, 187, 245, 224, 224, 222, 234, 228,\n",
       "        241, 229, 231, 237, 235, 213, 212, 211, 228, 127,   0,   0,   0,\n",
       "          0,   0],\n",
       "       [  0,   0,   0,   0,   0,   0, 213, 248, 222, 235, 233, 226, 224,\n",
       "        234, 220, 229, 218, 213, 215, 214, 211, 224, 182,   0,   0,   0,\n",
       "          0,   0],\n",
       "       [  0,   0,   0,   0,   0,   0, 237, 247, 228, 220, 215, 228, 224,\n",
       "        234, 217, 219, 217, 216, 202, 210, 213, 222, 226,   0,   0,   0,\n",
       "          0,   0],\n",
       "       [  0,   0,   0,   0,   0,   0, 255, 244, 229, 229, 226, 227, 225,\n",
       "        228, 215, 222, 218, 214, 212, 212, 211, 217, 251,   0,   0,   0,\n",
       "          0,   0],\n",
       "       [  0,   0,   0,   0,   0,   0, 255, 245, 231, 231, 230, 227, 227,\n",
       "        228, 217, 222, 218, 213, 214, 213, 211, 213, 255,   9,   0,   0,\n",
       "          0,   0],\n",
       "       [  0,   0,   0,   0,   0,   0, 255, 247, 231, 232, 228, 228, 230,\n",
       "        229, 219, 223, 217, 214, 214, 214, 212, 213, 255,  28,   0,   0,\n",
       "          0,   0],\n",
       "       [  0,   0,   0,   0,   0,   0, 255, 245, 232, 232, 228, 230, 229,\n",
       "        231, 220, 224, 217, 215, 216, 215, 213, 214, 255,  38,   0,   0,\n",
       "          0,   0],\n",
       "       [  0,   0,   0,   0,   0,  26, 255, 243, 234, 232, 229, 229, 230,\n",
       "        232, 221, 224, 219, 214, 220, 217, 213, 218, 255,  37,   0,   0,\n",
       "          0,   0],\n",
       "       [  0,   0,   0,   0,   0,  44, 255, 244, 237, 231, 229, 229, 232,\n",
       "        232, 223, 224, 224, 216, 216, 221, 215, 218, 255,  57,   0,   0,\n",
       "          0,   0],\n",
       "       [  0,   0,   0,   0,   0,  75, 255, 242, 238, 232, 233, 229, 234,\n",
       "        233, 224, 224, 224, 221, 212, 220, 217, 212, 255,  96,   0,   0,\n",
       "          0,   0],\n",
       "       [  0,   0,   0,   0,   0, 109, 255, 243, 238, 233, 236, 230, 240,\n",
       "        237, 222, 227, 227, 226, 224, 210, 221, 221, 255, 105,   0,   0,\n",
       "          0,   0],\n",
       "       [  0,   0,   0,   0,   0, 127, 255, 243, 238, 235, 237, 233, 227,\n",
       "        238, 224, 226, 204, 229, 229, 212, 216, 228, 255, 126,   0,   0,\n",
       "          0,   0],\n",
       "       [  0,   0,   0,   0,   0, 142, 255, 247, 237, 232, 233, 240, 216,\n",
       "        237, 228, 226, 207, 227, 226, 218, 207, 226, 254, 140,   0,   0,\n",
       "          0,   0],\n",
       "       [  0,   0,   0,   0,   0, 154, 255, 247, 232, 216, 238, 236, 246,\n",
       "        236, 228, 229, 234, 228, 226, 222, 212, 228, 254, 159,   0,   0,\n",
       "          0,   0],\n",
       "       [  0,   0,   0,   0,   0, 179, 255, 250, 239, 239, 234, 237, 243,\n",
       "        235, 231, 227, 227, 228, 224, 223, 222, 233, 250, 184,   0,   0,\n",
       "          0,   0],\n",
       "       [  0,   0,   0,   0,   0, 194, 254, 250, 237, 238, 235, 237, 244,\n",
       "        236, 232, 228, 229, 229, 232, 223, 223, 234, 245, 197,   0,   0,\n",
       "          0,   0],\n",
       "       [  0,   0,   0,   0,   0, 218, 250, 249, 234, 241, 236, 238, 244,\n",
       "        238, 230, 228, 230, 229, 231, 228, 222, 233, 233, 211,   0,   0,\n",
       "          0,   0],\n",
       "       [  0,   0,   0,   0,   0, 238, 240, 251, 238, 241, 239, 240, 246,\n",
       "        239, 233, 229, 229, 233, 235, 231, 228, 244, 252, 232,   0,   0,\n",
       "          0,   0],\n",
       "       [  0,   0,   0,   0,   0, 252, 254, 237, 237, 240, 239, 236, 241,\n",
       "        238, 235, 231, 230, 233, 233, 228, 235, 162, 133, 145,   0,   0,\n",
       "          0,   0],\n",
       "       [  0,   0,   0,   0,   0,   0,   0,  34, 255, 243, 241, 237, 239,\n",
       "        235, 232, 229, 226, 230, 236, 237, 255, 115,   0,   0,   0,   0,\n",
       "          0,   0],\n",
       "       [  0,   0,   0,   0,   0,   0,   0,   0, 255, 227, 239, 255, 255,\n",
       "        251, 249, 248, 255, 255, 247, 194, 188,  46,   0,   0,   0,   0,\n",
       "          0,   0],\n",
       "       [  0,   0,   0,   0,   0,   1,   1,   0,   0,   0,   0,  10,  46,\n",
       "        137, 147, 126,  79,   0,   0,   0,   0,   0,   0,   0,   0,   0,\n",
       "          0,   0]], dtype=uint8)"
      ]
     },
     "execution_count": 16,
     "metadata": {},
     "output_type": "execute_result"
    }
   ],
   "source": [
    "train_images[128]"
   ]
  },
  {
   "cell_type": "code",
   "execution_count": 17,
   "metadata": {},
   "outputs": [],
   "source": [
    "train_images = train_images/255\n",
    "test_images = test_images/255"
   ]
  },
  {
   "cell_type": "code",
   "execution_count": 18,
   "metadata": {},
   "outputs": [],
   "source": [
    "model = keras.Sequential([keras.layers.Flatten(), \n",
    "                          keras.layers.Dense(units=128, activation=tf.nn.relu),\n",
    "                          keras.layers.Dense(units=10, activation=tf.nn.softmax)])"
   ]
  },
  {
   "cell_type": "code",
   "execution_count": 25,
   "metadata": {},
   "outputs": [],
   "source": [
    "model.compile(optimizer=tf.train.AdamOptimizer(), loss='sparse_categorical_crossentropy', metrics=['accuracy'])"
   ]
  },
  {
   "cell_type": "code",
   "execution_count": 26,
   "metadata": {},
   "outputs": [
    {
     "name": "stdout",
     "output_type": "stream",
     "text": [
      "WARNING:tensorflow:From C:\\Users\\Miaojunli\\Anaconda3\\envs\\tfdeeplearning\\lib\\site-packages\\keras\\backend\\tensorflow_backend.py:422: The name tf.global_variables is deprecated. Please use tf.compat.v1.global_variables instead.\n",
      "\n",
      "WARNING:tensorflow:From C:\\Users\\Miaojunli\\Anaconda3\\envs\\tfdeeplearning\\lib\\site-packages\\keras\\backend\\tensorflow_backend.py:431: The name tf.is_variable_initialized is deprecated. Please use tf.compat.v1.is_variable_initialized instead.\n",
      "\n",
      "WARNING:tensorflow:From C:\\Users\\Miaojunli\\Anaconda3\\envs\\tfdeeplearning\\lib\\site-packages\\keras\\backend\\tensorflow_backend.py:438: The name tf.variables_initializer is deprecated. Please use tf.compat.v1.variables_initializer instead.\n",
      "\n",
      "Epoch 1/5\n",
      "60000/60000 [==============================] - 3s 46us/step - loss: 0.4963 - accuracy: 0.8243\n",
      "Epoch 2/5\n",
      "60000/60000 [==============================] - 3s 44us/step - loss: 0.3712 - accuracy: 0.8650\n",
      "Epoch 3/5\n",
      "60000/60000 [==============================] - 3s 56us/step - loss: 0.3334 - accuracy: 0.8771\n",
      "Epoch 4/5\n",
      "60000/60000 [==============================] - 2s 40us/step - loss: 0.3104 - accuracy: 0.8860\n",
      "Epoch 5/5\n",
      "60000/60000 [==============================] - 2s 40us/step - loss: 0.2921 - accuracy: 0.8914\n"
     ]
    },
    {
     "data": {
      "text/plain": [
       "<keras.callbacks.callbacks.History at 0x2709a57e208>"
      ]
     },
     "execution_count": 26,
     "metadata": {},
     "output_type": "execute_result"
    }
   ],
   "source": [
    "model.fit(train_images, train_labels, epochs=5)"
   ]
  },
  {
   "cell_type": "code",
   "execution_count": null,
   "metadata": {},
   "outputs": [],
   "source": [
    "import tensorflow as tf\n",
    "print(tf.__version__)\n",
    "\n",
    "class myCallback(tf.keras.callbacks.Callback):\n",
    "  def on_epoch_end(self, epoch, logs={}):\n",
    "    if(logs.get('loss')<0.4):\n",
    "      print(\"\\nReached 60% accuracy so cancelling training!\")\n",
    "      self.model.stop_training = True\n",
    "\n",
    "callbacks = myCallback()\n",
    "mnist = tf.keras.datasets.fashion_mnist\n",
    "(training_images, training_labels), (test_images, test_labels) = mnist.load_data()\n",
    "\n",
    "training_images=training_images/255.0\n",
    "test_images=test_images/255.0\n",
    "\n",
    "model = tf.keras.models.Sequential([\n",
    "  tf.keras.layers.Flatten(),\n",
    "  tf.keras.layers.Dense(512, activation=tf.nn.relu),\n",
    "  tf.keras.layers.Dense(10, activation=tf.nn.softmax)\n",
    "])\n",
    "model.compile(optimizer='adam', loss='sparse_categorical_crossentropy')\n",
    "model.fit(training_images, training_labels, epochs=30, callbacks=[callbacks])"
   ]
  },
  {
   "cell_type": "code",
   "execution_count": null,
   "metadata": {},
   "outputs": [],
   "source": [
    "test_loss, test_acc = model.evaluate(test_images, test_labels)\n",
    "print(test_acc)"
   ]
  }
 ],
 "metadata": {
  "kernelspec": {
   "display_name": "Python 3",
   "language": "python",
   "name": "python3"
  },
  "language_info": {
   "codemirror_mode": {
    "name": "ipython",
    "version": 3
   },
   "file_extension": ".py",
   "mimetype": "text/x-python",
   "name": "python",
   "nbconvert_exporter": "python",
   "pygments_lexer": "ipython3",
   "version": "3.7.4"
  }
 },
 "nbformat": 4,
 "nbformat_minor": 2
}
